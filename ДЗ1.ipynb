{
 "cells": [
  {
   "cell_type": "code",
   "execution_count": null,
   "id": "b8becbbd",
   "metadata": {},
   "outputs": [],
   "source": [
    "import numpy as np\n",
    "import pandas as pd\n",
    "import random \n",
    "from random import randint\n",
    "\n",
    "import matplotlib.pyplot as plt\n",
    "import seaborn as sns\n",
    "\n",
    "from kaggle_environments import make, evaluate\n",
    "\n",
    "def rock(observation, configuration):\n",
    "    return 0\n",
    "\n",
    "\n",
    "def paper(observation, configuration):\n",
    "    return 1\n",
    "\n",
    "\n",
    "def scissors(observation, configuration):\n",
    "    return 2\n",
    "\n",
    "\n",
    "def copy_opponent(observation, configuration):\n",
    "    if observation.step > 0:\n",
    "        return observation.lastOpponentAction\n",
    "    else:\n",
    "        return random.randrange(0, configuration.signs)\n",
    "\n",
    "def random():\n",
    "     if True :\n",
    "        f = [rock, paper, scissors]\n",
    "        rand_func = random.choice(f)\n",
    "        return rand_func()    \n",
    "evaluate(\n",
    "    \"rps\", #environment to use - no need to change\n",
    "    [rock,paper],\n",
    "     configuration={\"episodeSteps\": 100} #number of episodes \n",
    ")\n",
    "\n"
   ]
  }
 ],
 "metadata": {
  "kernelspec": {
   "display_name": "Python 3 (ipykernel)",
   "language": "python",
   "name": "python3"
  },
  "language_info": {
   "codemirror_mode": {
    "name": "ipython",
    "version": 3
   },
   "file_extension": ".py",
   "mimetype": "text/x-python",
   "name": "python",
   "nbconvert_exporter": "python",
   "pygments_lexer": "ipython3",
   "version": "3.9.12"
  }
 },
 "nbformat": 4,
 "nbformat_minor": 5
}
